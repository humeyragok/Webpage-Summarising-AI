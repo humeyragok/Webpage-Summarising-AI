{
 "cells": [
  {
   "cell_type": "code",
   "execution_count": 5,
   "id": "284b2811-815c-4d3d-8fc1-cefc2dafc1d9",
   "metadata": {},
   "outputs": [
    {
     "name": "stdout",
     "output_type": "stream",
     "text": [
      "Requirement already satisfied: requests in d:\\programlar\\envs\\llms\\lib\\site-packages (2.32.3)\n",
      "Requirement already satisfied: charset_normalizer<4,>=2 in d:\\programlar\\envs\\llms\\lib\\site-packages (from requests) (3.4.1)\n",
      "Requirement already satisfied: idna<4,>=2.5 in d:\\programlar\\envs\\llms\\lib\\site-packages (from requests) (3.10)\n",
      "Requirement already satisfied: urllib3<3,>=1.21.1 in d:\\programlar\\envs\\llms\\lib\\site-packages (from requests) (2.3.0)\n",
      "Requirement already satisfied: certifi>=2017.4.17 in d:\\programlar\\envs\\llms\\lib\\site-packages (from requests) (2025.1.31)\n"
     ]
    }
   ],
   "source": [
    "!pip install requests\n",
    "import requests\n",
    "from bs4 import BeautifulSoup\n",
    "from IPython.display import Markdown, display"
   ]
  },
  {
   "cell_type": "code",
   "execution_count": 6,
   "id": "fc86435f-7bca-4295-bb6c-185fc24325ca",
   "metadata": {},
   "outputs": [],
   "source": [
    "OLLAMA_API=\"http://localhost:11434/api/chat\"\n",
    "HEADERS={\"Content-Type\": \"application/json\"}\n",
    "MODEL=\"llama3.2\""
   ]
  },
  {
   "cell_type": "code",
   "execution_count": 12,
   "id": "e53d895f-1a4b-4e5f-a70c-a5f692de7694",
   "metadata": {},
   "outputs": [],
   "source": [
    "messages=[\n",
    "    {\"role\":\"user\",\"content\":\"Describe some of the business applications of Generative AI\"}\n",
    "]"
   ]
  },
  {
   "cell_type": "code",
   "execution_count": 13,
   "id": "6e47e30f-e6de-4216-be37-dd5b94487aa1",
   "metadata": {},
   "outputs": [],
   "source": [
    "payload={\n",
    "    \"model\":MODEL,\n",
    "    \"messages\":messages,\n",
    "    \"stream\":False\n",
    "}"
   ]
  },
  {
   "cell_type": "code",
   "execution_count": 14,
   "id": "a7330db9-543c-453c-ad2c-812e9803abe6",
   "metadata": {},
   "outputs": [
    {
     "name": "stderr",
     "output_type": "stream",
     "text": [
      "\u001b[?2026h\u001b[?25l\u001b[1Gpulling manifest â ‹ \u001b[K\u001b[?25h\u001b[?2026l\u001b[?2026h\u001b[?25l\u001b[1Gpulling manifest â ™ \u001b[K\u001b[?25h\u001b[?2026l\u001b[?2026h\u001b[?25l\u001b[1Gpulling manifest â ¹ \u001b[K\u001b[?25h\u001b[?2026l\u001b[?2026h\u001b[?25l\u001b[1Gpulling manifest â ¸ \u001b[K\u001b[?25h\u001b[?2026l\u001b[?2026h\u001b[?25l\u001b[1Gpulling manifest â ¼ \u001b[K\u001b[?25h\u001b[?2026l\u001b[?2026h\u001b[?25l\u001b[1Gpulling manifest â ´ \u001b[K\u001b[?25h\u001b[?2026l\u001b[?2026h\u001b[?25l\u001b[1Gpulling manifest â ¦ \u001b[K\u001b[?25h\u001b[?2026l\u001b[?2026h\u001b[?25l\u001b[1Gpulling manifest â § \u001b[K\u001b[?25h\u001b[?2026l\u001b[?2026h\u001b[?25l\u001b[1Gpulling manifest \u001b[K\n",
      "pulling dde5aa3fc5ff... 100% â–•â–ˆâ–ˆâ–ˆâ–ˆâ–ˆâ–ˆâ–ˆâ–ˆâ–ˆâ–ˆâ–ˆâ–ˆâ–ˆâ–ˆâ–ˆâ–ˆâ–� 2.0 GB                         \u001b[K\n",
      "pulling 966de95ca8a6... 100% â–•â–ˆâ–ˆâ–ˆâ–ˆâ–ˆâ–ˆâ–ˆâ–ˆâ–ˆâ–ˆâ–ˆâ–ˆâ–ˆâ–ˆâ–ˆâ–ˆâ–� 1.4 KB                         \u001b[K\n",
      "pulling fcc5a6bec9da... 100% â–•â–ˆâ–ˆâ–ˆâ–ˆâ–ˆâ–ˆâ–ˆâ–ˆâ–ˆâ–ˆâ–ˆâ–ˆâ–ˆâ–ˆâ–ˆâ–ˆâ–� 7.7 KB                         \u001b[K\n",
      "pulling a70ff7e570d9... 100% â–•â–ˆâ–ˆâ–ˆâ–ˆâ–ˆâ–ˆâ–ˆâ–ˆâ–ˆâ–ˆâ–ˆâ–ˆâ–ˆâ–ˆâ–ˆâ–ˆâ–� 6.0 KB                         \u001b[K\n",
      "pulling 56bb8bd477a5... 100% â–•â–ˆâ–ˆâ–ˆâ–ˆâ–ˆâ–ˆâ–ˆâ–ˆâ–ˆâ–ˆâ–ˆâ–ˆâ–ˆâ–ˆâ–ˆâ–ˆâ–�   96 B                         \u001b[K\n",
      "pulling 34bb5ab01051... 100% â–•â–ˆâ–ˆâ–ˆâ–ˆâ–ˆâ–ˆâ–ˆâ–ˆâ–ˆâ–ˆâ–ˆâ–ˆâ–ˆâ–ˆâ–ˆâ–ˆâ–�  561 B                         \u001b[K\n",
      "verifying sha256 digest \u001b[K\n",
      "writing manifest \u001b[K\n",
      "success \u001b[K\u001b[?25h\u001b[?2026l\n"
     ]
    }
   ],
   "source": [
    "!ollama pull llama3.2"
   ]
  },
  {
   "cell_type": "code",
   "execution_count": 15,
   "id": "3fdd1b8c-2fd3-4466-bd1b-ba9f7551ca21",
   "metadata": {},
   "outputs": [
    {
     "name": "stdout",
     "output_type": "stream",
     "text": [
      "Generative AI has numerous business applications across various industries. Here are some examples:\n",
      "\n",
      "1. **Content Generation**: Generative AI can create high-quality content, such as articles, blog posts, social media posts, and even entire books, at scale and with minimal human intervention. This can help businesses save time and resources while maintaining a consistent tone and style.\n",
      "2. **Product Design**: Generative AI can be used to design new products, including 3D models, product mockups, and prototypes. This can speed up the product development process and reduce costs associated with traditional design methods.\n",
      "3. **Image and Video Generation**: Generative AI can create realistic images and videos that can be used for various applications, such as:\n",
      " * E-commerce product visualization\n",
      " * Advertising and marketing campaigns\n",
      " * Virtual product demonstrations\n",
      " * Training data for machine learning models\n",
      "4. **Chatbots and Customer Service**: Generative AI-powered chatbots can provide 24/7 customer support, answering frequently asked questions, and helping customers with simple queries.\n",
      "5. **Music and Audio Generation**: Generative AI can create new music tracks, sound effects, and even entire albums. This can be used for:\n",
      " * Music composition and production\n",
      " * Sound design for films and TV shows\n",
      " * Creating audio content for podcasts and streaming platforms\n",
      "6. **Fashion Design**: Generative AI can generate new fashion designs, including clothing patterns, textures, and accessories. This can help designers and manufacturers reduce costs and time-to-market while maintaining high-quality designs.\n",
      "7. **Marketing Automation**: Generative AI can be used to automate marketing campaigns, such as:\n",
      " * Personalized email marketing\n",
      " * Social media content generation\n",
      " * Ad copywriting and optimization\n",
      "8. **Data Analysis and Visualization**: Generative AI can help analyze and visualize large datasets, providing insights that can inform business decisions.\n",
      "9. **Predictive Maintenance**: Generative AI can be used to predict equipment failures, reducing downtime and increasing overall efficiency in industries like manufacturing and logistics.\n",
      "10. **Cybersecurity**: Generative AI-powered security tools can detect and respond to threats more quickly and effectively than traditional security measures.\n",
      "\n",
      "These are just a few examples of the many business applications of Generative AI. As the technology continues to evolve, we can expect to see even more innovative uses across various industries.\n"
     ]
    }
   ],
   "source": [
    "response=requests.post(OLLAMA_API,json=payload,headers=HEADERS)\n",
    "print(response.json()[\"message\"][\"content\"])"
   ]
  },
  {
   "cell_type": "markdown",
   "id": "af11fe22-f541-405d-816c-30045f531beb",
   "metadata": {},
   "source": [
    "### Ollama Package"
   ]
  },
  {
   "cell_type": "code",
   "execution_count": 16,
   "id": "b4226edc-98a6-480b-9776-2add1a02ede8",
   "metadata": {},
   "outputs": [],
   "source": [
    "import ollama"
   ]
  },
  {
   "cell_type": "code",
   "execution_count": 18,
   "id": "f4123e82-d9b4-4c3f-9fb5-33d0e088fb6d",
   "metadata": {},
   "outputs": [
    {
     "name": "stdout",
     "output_type": "stream",
     "text": [
      "Generative AI has numerous business applications across various industries, including:\n",
      "\n",
      "1. **Content Creation**: Generate high-quality content such as product descriptions, blog posts, social media posts, and more, reducing the need for human writers and editors.\n",
      "2. **Marketing Automation**: Use generative AI to create personalized marketing campaigns, such as automated email marketing, ad copywriting, and lead generation.\n",
      "3. **Product Design**: Generate 3D models, CAD designs, and product prototypes using generative AI, reducing design time and increasing efficiency.\n",
      "4. **Data Analysis**: Analyze large datasets and generate insights, predictions, and forecasts using generative AI algorithms.\n",
      "5. **Language Translation**: Translate text and audio content in real-time, improving communication across languages and cultures.\n",
      "6. **Customer Service Chatbots**: Generate conversational dialogue for chatbots, providing 24/7 customer support and improving customer experience.\n",
      "7. **Sales Enablement**: Use generative AI to create personalized sales materials, such as pitch decks, sales scripts, and email templates.\n",
      "8. **Predictive Maintenance**: Analyze sensor data from machines and predict maintenance needs using generative AI algorithms.\n",
      "9. **Financial Analysis**: Generate financial models, forecasts, and predictions using generative AI, improving investment decisions and portfolio optimization.\n",
      "10. **Creative Writing**: Use generative AI to create original content such as books, articles, and blog posts, reducing the need for human writers.\n",
      "\n",
      "Some specific business applications of Generative AI include:\n",
      "\n",
      "1. **Chatbots**: Many companies are using chatbots powered by generative AI to provide 24/7 customer support.\n",
      "2. **Content Generation Platforms**: Companies like WordLift and Content Blossom use generative AI to generate high-quality content for blogs, social media, and websites.\n",
      "3. **Product Design Software**: Generative design software like Autodesk Dreambook and Generai allows users to create complex designs using algorithms and machine learning.\n",
      "4. **Marketing Automation Tools**: Marketing automation tools like Marketo and Pardot use generative AI to personalize marketing campaigns and improve lead generation.\n",
      "5. **Data Visualization Tools**: Data visualization tools like Tableau and Power BI use generative AI to generate interactive visualizations and insights.\n",
      "\n",
      "Overall, Generative AI has the potential to automate many routine tasks, freeing up human resources for more creative and high-value work.\n"
     ]
    }
   ],
   "source": [
    "#HTTP çağrısıyla aldığım cevabı ollamayla almaya çalışıyorum\n",
    "response=ollama.chat(model=MODEL,messages=messages)\n",
    "print(response[\"message\"][\"content\"])"
   ]
  },
  {
   "cell_type": "code",
   "execution_count": null,
   "id": "312b0004-803e-41b6-b90a-9c33771ba9b2",
   "metadata": {},
   "outputs": [],
   "source": []
  }
 ],
 "metadata": {
  "kernelspec": {
   "display_name": "Python 3 (ipykernel)",
   "language": "python",
   "name": "python3"
  },
  "language_info": {
   "codemirror_mode": {
    "name": "ipython",
    "version": 3
   },
   "file_extension": ".py",
   "mimetype": "text/x-python",
   "name": "python",
   "nbconvert_exporter": "python",
   "pygments_lexer": "ipython3",
   "version": "3.11.11"
  }
 },
 "nbformat": 4,
 "nbformat_minor": 5
}
